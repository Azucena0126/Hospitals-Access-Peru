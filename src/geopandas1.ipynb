{
 "cells": [
  {
   "cell_type": "code",
   "execution_count": null,
   "id": "14ede73a",
   "metadata": {},
   "outputs": [],
   "source": [
    "import pandas as pd\n",
    "from pandas import Series, DataFrame\n",
    "import numpy as np\n",
    "import matplotlib.pyplot as plt \n",
    "import chardet\n",
    "import geopandas as gpd\n",
    "from geopandas import GeoSeries\n",
    "from shapely.geometry import Point, LineString\n",
    "import folium \n",
    "from folium import Marker, GeoJson\n",
    "from folium.plugins import MarkerCluster, HeatMap\n",
    "import seaborn as sns"
   ]
  },
  {
   "cell_type": "markdown",
   "id": "d56905ea",
   "metadata": {},
   "source": [
    "# 🗺️ Task 1: Static Maps — Hospital Count by District"
   ]
  },
  {
   "cell_type": "code",
   "execution_count": null,
   "id": "17ec4723",
   "metadata": {},
   "outputs": [],
   "source": [
    "# Carga el archivo IPRESS, filtra registros en funcionamiento y elimina filas con valores nulos o cero en NORTE/ESTE.\n",
    "def cargar_ipress(ruta_csv):\n",
    "        \n",
    "    df = pd.read_csv(ruta_csv, encoding='latin-1')\n",
    "    \n",
    "    # Filtrar por condición\n",
    "    df = df[df['Condición'] == 'EN FUNCIONAMIENTO']\n",
    "    \n",
    "    # Filtrar NaN y ceros en coordenadas\n",
    "    df = df.dropna(subset=['NORTE', 'ESTE'])\n",
    "    df = df[(df['NORTE'] != 0) & (df['ESTE'] != 0)]\n",
    "    \n",
    "    # Renombrar columnas\n",
    "    df = df.rename(columns={'ESTE': 'Latitud', 'NORTE': 'Longitud'})\n",
    "    \n",
    "    # Asegurar tipo numérico\n",
    "    df['Latitud'] = pd.to_numeric(df['Latitud'], errors='coerce')\n",
    "    df['Longitud'] = pd.to_numeric(df['Longitud'], errors='coerce')\n",
    "    \n",
    "    # Eliminar nuevamente posibles NaN generados en la conversión\n",
    "    df = df.dropna(subset=['Latitud', 'Longitud']).reset_index(drop=True)\n",
    "    \n",
    "    # Ajustar UBIGEO antes o después de filtrar\n",
    "    df[\"UBIGEO\"] = df[\"UBIGEO\"].astype(str).str.zfill(6)\n",
    "    \n",
    "    # Filtramos las columnas deseadas\n",
    "    df.columns = df.columns.str.upper()\n",
    "    df = df[[\n",
    "            \"INSTITUCIÓN\",\n",
    "            \"NOMBRE DEL ESTABLECIMIENTO\",\n",
    "            \"CLASIFICACIÓN\",\n",
    "            \"DEPARTAMENTO\",\n",
    "            \"PROVINCIA\",\n",
    "            \"DISTRITO\",\n",
    "            \"ESTADO\",\n",
    "            \"LATITUD\",\n",
    "            \"LONGITUD\",\n",
    "            \"UBIGEO\"\n",
    "            ]]\n",
    "    return df\n"
   ]
  },
  {
   "cell_type": "code",
   "execution_count": null,
   "id": "c8005d64",
   "metadata": {},
   "outputs": [],
   "source": [
    "def plot_hospitales(dataset_cv, filtro=\"all\", color=\"#9DDE8B\", titulo=None):\n",
    "   \n",
    "    # --- 1. Aplicar filtro ---\n",
    "    if filtro == \"with\":\n",
    "        dataset_filtrado = dataset_cv[dataset_cv['INSTITUCIÓN'].notna()]\n",
    "        titulo_auto = \"Map: Districts with hospitals\"\n",
    "    elif filtro == \"without\":\n",
    "        dataset_filtrado = dataset_cv[dataset_cv['INSTITUCIÓN'].isna()]\n",
    "        titulo_auto = \"Map: Districts without hospitals\"\n",
    "    elif filtro == \"top10\":\n",
    "        hospitales_por_distrito = (\n",
    "            dataset_cv.groupby([\"UBIGEO\",\"geometry\"])[\"INSTITUCIÓN\"]\n",
    "            .count().reset_index(name=\"n_hospitales\")\n",
    "        )\n",
    "        dataset_filtrado = gpd.GeoDataFrame(\n",
    "            hospitales_por_distrito.nlargest(10, \"n_hospitales\"),\n",
    "            geometry=hospitales_por_distrito[\"geometry\"],\n",
    "            crs=dataset_cv.crs\n",
    "        )\n",
    "        titulo_auto = \"Map 3: Top 10 districts with the highest number of hospitals\"\n",
    "    else:\n",
    "        dataset_filtrado = dataset_cv.copy()\n",
    "        titulo_auto = \"Map: All districts\"\n",
    "    \n",
    "    # --- 2. Crear figura ---\n",
    "    fig, ax = plt.subplots(figsize=(20, 20))\n",
    "    \n",
    "    # Fondo\n",
    "    dataset_cv.plot(\n",
    "        ax=ax,\n",
    "        facecolor=\"none\",\n",
    "        edgecolor=\"gray\",\n",
    "        linewidth=0.5,\n",
    "        linestyle='dotted'\n",
    "    )\n",
    "    \n",
    "    # Filtrado encima\n",
    "    if filtro == \"top10\":\n",
    "        dataset_filtrado.plot(\n",
    "            ax=ax,\n",
    "            column=\"n_hospitales\",   # escala de color según número de hospitales\n",
    "            cmap=\"Reds\",          # paleta de colores distinta\n",
    "            edgecolor=\"white\",\n",
    "            linewidth=1,\n",
    "            legend=True\n",
    "        )\n",
    "    else:\n",
    "        dataset_filtrado.plot(\n",
    "            ax=ax,\n",
    "            color=color,\n",
    "            edgecolor=\"white\",\n",
    "            linewidth=1,\n",
    "            linestyle='dotted',\n",
    "            legend=True,\n",
    "        )\n",
    "    \n",
    "    # --- 3. Título ---\n",
    "    plt.title(titulo if titulo else titulo_auto, fontsize=18, fontweight=\"bold\")\n",
    "    plt.show()\n"
   ]
  },
  {
   "cell_type": "code",
   "execution_count": null,
   "id": "edf5b653",
   "metadata": {},
   "outputs": [],
   "source": [
    "#Carga de data IPRESS\n",
    "ruta = r'../../data/IPRESS.csv'\n",
    "df = cargar_ipress(ruta)"
   ]
  },
  {
   "cell_type": "code",
   "execution_count": null,
   "id": "10f37a28",
   "metadata": {},
   "outputs": [],
   "source": [
    "#Carga de data de distritos\n",
    "maps = gpd.read_file(r'../../data/DISTRITOS.shp')"
   ]
  },
  {
   "cell_type": "code",
   "execution_count": null,
   "id": "55ed3d54",
   "metadata": {},
   "outputs": [],
   "source": [
    "# Seleccionamos las columnas relevantes\n",
    "maps = maps[['IDDIST', 'geometry']]\n",
    "maps = maps.rename({'IDDIST':'UBIGEO'}, axis =1 )"
   ]
  },
  {
   "cell_type": "code",
   "execution_count": null,
   "id": "67998cbe",
   "metadata": {},
   "outputs": [],
   "source": [
    "# Aseguramos el formato WGS-84 (EPSG:4326)\n",
    "maps = maps.to_crs(epsg=4326)"
   ]
  },
  {
   "cell_type": "code",
   "execution_count": null,
   "id": "58785060",
   "metadata": {},
   "outputs": [],
   "source": [
    "#Creamos el dataframe que vamos a utilizar para el ploteo\n",
    "dataset_cv = pd.merge(maps, df, how=\"left\", on=\"UBIGEO\")"
   ]
  },
  {
   "cell_type": "markdown",
   "id": "7649d02d",
   "metadata": {},
   "source": [
    "### Map 1: Total public hospitals per district."
   ]
  },
  {
   "cell_type": "code",
   "execution_count": null,
   "id": "38bfa8cf",
   "metadata": {},
   "outputs": [],
   "source": [
    "# Distritos con hospitales\n",
    "plot_hospitales(dataset_cv, filtro=\"with\", titulo=\"Distritos con hospitales públicos\")"
   ]
  },
  {
   "cell_type": "markdown",
   "id": "a46ee47b",
   "metadata": {},
   "source": [
    "### Map 2: Highlight districts with zero hospitals."
   ]
  },
  {
   "cell_type": "code",
   "execution_count": null,
   "id": "df8c6a80",
   "metadata": {},
   "outputs": [],
   "source": [
    "# Distritos sin hospitales\n",
    "plot_hospitales(dataset_cv, filtro=\"without\",color='#51829B', titulo=\"Distritos sin hospitales públicos\")"
   ]
  },
  {
   "cell_type": "markdown",
   "id": "18ca16d6",
   "metadata": {},
   "source": [
    "### Map 3: Top 10 districts with the highest number of hospitals (distinct color scale)."
   ]
  },
  {
   "cell_type": "code",
   "execution_count": null,
   "id": "94e9da32",
   "metadata": {},
   "outputs": [],
   "source": [
    "# Top 10 distritos con más hospitales\n",
    "plot_hospitales(dataset_cv, filtro=\"top10\", titulo=\"Top 10 distritos con más hospitales\")"
   ]
  },
  {
   "cell_type": "markdown",
   "id": "e788c6dd",
   "metadata": {},
   "source": [
    "### 📊 Task 2: Department-level Analysis"
   ]
  },
  {
   "cell_type": "markdown",
   "id": "08c74016",
   "metadata": {},
   "source": [
    "##### Calculate the total number of operational hospitals in each department."
   ]
  },
  {
   "cell_type": "code",
   "execution_count": null,
   "id": "d7e4ac9a",
   "metadata": {},
   "outputs": [],
   "source": [
    "df2 = df.groupby([\"DEPARTAMENTO\"])[\"INSTITUCIÓN\"].count().reset_index(name=\"n_hospitales\")\n",
    "df2"
   ]
  },
  {
   "cell_type": "markdown",
   "id": "ee21211f",
   "metadata": {},
   "source": [
    "##### Identify:\n",
    "- The department with the highest number of hospitals.\n",
    "- The department with the lowest number of hospitals."
   ]
  },
  {
   "cell_type": "code",
   "execution_count": null,
   "id": "b11c90c2",
   "metadata": {},
   "outputs": [],
   "source": [
    "# Departamento con mayor número de hospitales\n",
    "max_hosp = df2.loc[df2[\"n_hospitales\"].idxmax()]\n",
    "max_hosp"
   ]
  },
  {
   "cell_type": "code",
   "execution_count": null,
   "id": "d438304c",
   "metadata": {},
   "outputs": [],
   "source": [
    "# Departamento con menor número de hospitales\n",
    "min_hosp = df2.loc[df2[\"n_hospitales\"].idxmin()]\n",
    "min_hosp"
   ]
  },
  {
   "cell_type": "markdown",
   "id": "4845abb2",
   "metadata": {},
   "source": [
    "#### Present the results with:\n",
    "- A summary table (sorted from highest to lowest).\n",
    "- A bar chart (matplotlib or seaborn).\n",
    "- A department-level choropleth map (GeoPandas)."
   ]
  },
  {
   "cell_type": "code",
   "execution_count": null,
   "id": "a0cabbde",
   "metadata": {},
   "outputs": [],
   "source": [
    "# 📌 1. Tabla resumen ordenada\n",
    "df_summary = df2.sort_values(\"n_hospitales\", ascending=False).reset_index(drop=True)\n",
    "df_summary"
   ]
  },
  {
   "cell_type": "code",
   "execution_count": null,
   "id": "d10b1087",
   "metadata": {},
   "outputs": [],
   "source": [
    "\n",
    "# 📌 2. Gráfico de barras\n",
    "plt.figure(figsize=(10,6))\n",
    "sns.barplot(data=df_summary, x=\"n_hospitales\", y=\"DEPARTAMENTO\", palette=\"viridis\")\n",
    "\n",
    "plt.title(\"Número de hospitales por departamento\", fontsize=14)\n",
    "plt.xlabel(\"Cantidad de hospitales\")\n",
    "plt.ylabel(\"Departamento\")\n",
    "plt.tight_layout()\n",
    "plt.show()"
   ]
  },
  {
   "cell_type": "code",
   "execution_count": null,
   "id": "b6a8919c",
   "metadata": {},
   "outputs": [],
   "source": [
    "df\n",
    "#Carga de data de distritos\n",
    "maps_departamental = gpd.read_file(r'../../data/DEPARTAMENTO.shp')\n",
    "# Seleccionamos las columnas relevantes\n",
    "maps_departamental = maps_departamental[['IDDIST', 'geometry']]\n",
    "maps_departamental = maps_departamental.rename({'IDDIST':'UBIGEO'}, axis =1 )\n",
    "# Aseguramos el formato WGS-84 (EPSG:4326)\n",
    "maps = maps.to_crs(epsg=4326)\n",
    "#Creamos el dataframe que vamos a utilizar para el ploteo\n",
    "dataset_cv_2 = pd.merge(maps, df, how=\"inner\", on=\"UBIGEO\")"
   ]
  }
 ],
 "metadata": {
  "kernelspec": {
   "display_name": "Python 3",
   "language": "python",
   "name": "python3"
  },
  "language_info": {
   "codemirror_mode": {
    "name": "ipython",
    "version": 3
   },
   "file_extension": ".py",
   "mimetype": "text/x-python",
   "name": "python",
   "nbconvert_exporter": "python",
   "pygments_lexer": "ipython3",
   "version": "3.13.2"
  }
 },
 "nbformat": 4,
 "nbformat_minor": 5
}
